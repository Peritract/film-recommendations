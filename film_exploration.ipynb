{
 "cells": [
  {
   "cell_type": "markdown",
   "metadata": {},
   "source": [
    "# Film Exploration\n",
    "\n",
    "This notebook cleans & explores a film dataset.\n",
    "\n",
    "## Imports"
   ]
  },
  {
   "cell_type": "code",
   "execution_count": 124,
   "metadata": {},
   "outputs": [],
   "source": [
    "import pandas as pd\n",
    "from nltk.corpus import stopwords\n",
    "from nltk.tokenize import word_tokenize\n",
    "from nltk.tag import pos_tag\n",
    "from nltk import wordnet\n",
    "from sklearn.feature_extraction.text import CountVectorizer, TfidfVectorizer\n",
    "from sklearn.metrics.pairwise import cosine_similarity"
   ]
  },
  {
   "cell_type": "markdown",
   "metadata": {},
   "source": [
    "## Setup"
   ]
  },
  {
   "cell_type": "code",
   "execution_count": 125,
   "metadata": {},
   "outputs": [],
   "source": [
    "pd.set_option(\"max.colwidth\", 0)"
   ]
  },
  {
   "cell_type": "markdown",
   "metadata": {},
   "source": [
    "## Data sourcing"
   ]
  },
  {
   "cell_type": "code",
   "execution_count": 126,
   "metadata": {},
   "outputs": [],
   "source": [
    "films = pd.read_csv(\"data/16k_Movies.csv\")"
   ]
  },
  {
   "cell_type": "markdown",
   "metadata": {},
   "source": [
    "## Data cleaning"
   ]
  },
  {
   "cell_type": "code",
   "execution_count": 127,
   "metadata": {},
   "outputs": [],
   "source": [
    "# Drop bad column and unwanted columns\n",
    "\n",
    "films = films.drop(columns=[\"Unnamed: 0\", \"Written by\", \"Directed by\"])"
   ]
  },
  {
   "cell_type": "code",
   "execution_count": 128,
   "metadata": {},
   "outputs": [],
   "source": [
    "# Get rid of bad rows\n",
    "\n",
    "films = films.dropna()"
   ]
  },
  {
   "cell_type": "code",
   "execution_count": 129,
   "metadata": {},
   "outputs": [],
   "source": [
    "# Convert times\n",
    "\n",
    "films[\"Release Date\"] = pd.to_datetime(films[\"Release Date\"])"
   ]
  },
  {
   "cell_type": "code",
   "execution_count": 130,
   "metadata": {},
   "outputs": [],
   "source": [
    "# Standardise durations\n",
    "\n",
    "duration_df = films[\"Duration\"].str.extract(r\"(\\d+) h (\\d+) m\")\n",
    "\n",
    "duration_df = duration_df.fillna(0)\n",
    "\n",
    "duration_df[\"total_duration\"] = duration_df[0].astype(int) * 60 + duration_df[1].astype(int)\n",
    "\n",
    "films[\"Duration\"] = duration_df[\"total_duration\"]\n",
    "\n",
    "films = films[films[\"Duration\"] > 0]"
   ]
  },
  {
   "cell_type": "code",
   "execution_count": 131,
   "metadata": {},
   "outputs": [],
   "source": [
    "# Simplift column names\n",
    "\n",
    "films.columns = films.columns.str.lower().str.replace(\" \", \"_\")\n",
    "films = films.rename(columns={\n",
    "    \"no_of_persons_voted\": \"votes\"\n",
    "})"
   ]
  },
  {
   "cell_type": "code",
   "execution_count": 132,
   "metadata": {},
   "outputs": [
    {
     "data": {
      "text/html": [
       "<div>\n",
       "<style scoped>\n",
       "    .dataframe tbody tr th:only-of-type {\n",
       "        vertical-align: middle;\n",
       "    }\n",
       "\n",
       "    .dataframe tbody tr th {\n",
       "        vertical-align: top;\n",
       "    }\n",
       "\n",
       "    .dataframe thead th {\n",
       "        text-align: right;\n",
       "    }\n",
       "</style>\n",
       "<table border=\"1\" class=\"dataframe\">\n",
       "  <thead>\n",
       "    <tr style=\"text-align: right;\">\n",
       "      <th></th>\n",
       "      <th>title</th>\n",
       "      <th>release_date</th>\n",
       "      <th>description</th>\n",
       "      <th>rating</th>\n",
       "      <th>votes</th>\n",
       "      <th>duration</th>\n",
       "      <th>genres</th>\n",
       "    </tr>\n",
       "  </thead>\n",
       "  <tbody>\n",
       "    <tr>\n",
       "      <th>8917</th>\n",
       "      <td>Gifted</td>\n",
       "      <td>2017-04-07</td>\n",
       "      <td>Frank Adler (Chris Evans) is a single man raising a child prodigy – his spirited young niece Mary (Mckenna Grace) – in a coastal town in Florida. Frank’s plans for a normal school life for Mary are foiled when the seven-year-old’s mathematical abilities come to the attention of Frank’s formidable mother Evelyn (Lindsay Duncan) whose plans for her granddaughter threaten to separate Frank and Mary.</td>\n",
       "      <td>7.5</td>\n",
       "      <td>166</td>\n",
       "      <td>101</td>\n",
       "      <td>Drama</td>\n",
       "    </tr>\n",
       "  </tbody>\n",
       "</table>\n",
       "</div>"
      ],
      "text/plain": [
       "       title release_date  \\\n",
       "8917  Gifted 2017-04-07     \n",
       "\n",
       "                                                                                                                                                                                                                                                                                                                                                                                                          description  \\\n",
       "8917  Frank Adler (Chris Evans) is a single man raising a child prodigy – his spirited young niece Mary (Mckenna Grace) – in a coastal town in Florida. Frank’s plans for a normal school life for Mary are foiled when the seven-year-old’s mathematical abilities come to the attention of Frank’s formidable mother Evelyn (Lindsay Duncan) whose plans for her granddaughter threaten to separate Frank and Mary.   \n",
       "\n",
       "      rating votes  duration genres  \n",
       "8917  7.5     166   101       Drama  "
      ]
     },
     "execution_count": 132,
     "metadata": {},
     "output_type": "execute_result"
    }
   ],
   "source": [
    "films.sample()"
   ]
  },
  {
   "cell_type": "markdown",
   "metadata": {},
   "source": [
    "## Text cleaning"
   ]
  },
  {
   "cell_type": "code",
   "execution_count": 133,
   "metadata": {},
   "outputs": [],
   "source": [
    "keywords = films[\"description\"]"
   ]
  },
  {
   "cell_type": "code",
   "execution_count": 134,
   "metadata": {},
   "outputs": [],
   "source": [
    "# Case-fold\n",
    "\n",
    "keywords = keywords.str.lower()\n"
   ]
  },
  {
   "cell_type": "code",
   "execution_count": 135,
   "metadata": {},
   "outputs": [],
   "source": [
    "# Get a stopwords list and customise it\n",
    "\n",
    "stops = stopwords.words(\"english\")\n",
    "stops.extend([\"'ve\", \"'nt\", \"re-release\", \"starring\", \"directed\", \"award\", \"stars\", \"starring\"])"
   ]
  },
  {
   "cell_type": "code",
   "execution_count": 136,
   "metadata": {},
   "outputs": [],
   "source": [
    "# Tokenise the text\n",
    "\n",
    "keyword_tokens = keywords.apply(word_tokenize)"
   ]
  },
  {
   "cell_type": "code",
   "execution_count": 137,
   "metadata": {},
   "outputs": [],
   "source": [
    "# Purge tokens that are not of interest\n",
    "\n",
    "def remove_unwanted_words(tokens: list[str]) -> list[str]:\n",
    "    \"\"\"Returns a list of tokens filtered for undesirables.\"\"\"\n",
    "\n",
    "    return [t for t in tokens\n",
    "            if t not in stops\n",
    "            and len(t) >= 3\n",
    "            and not t.isdigit()]\n",
    "\n",
    "keyword_tokens = keyword_tokens.apply(remove_unwanted_words)"
   ]
  },
  {
   "cell_type": "code",
   "execution_count": 138,
   "metadata": {},
   "outputs": [
    {
     "data": {
      "text/plain": [
       "0        [masterwork, krzysztof, kieślowski, one, twentieth, century, greatest, achievements, visual, storytelling, originally, made, polish, television, dekalog, focuses, residents, housing, complex, late-communist, poland, whose, lives, become, subtly, intertwined, face, emotional, dilemmas, deeply, personal, universally, human, ten, hour-long, films, drawing, ten, commandments, thematic, inspiration, overarching, structure, grapple, deftly, complex, moral, existential, questions, concerning, life, death, love, hate, truth, passage, time, shot, nine, different, cinematographers, stirring, music, zbigniew, preisner, compelling, performances, established, unknown, actors, alike, dekalog, arrestingly, explores, unknowable, forces, shape, lives, also, available, longer, theatrical, versions, series, fifth, sixth, films, short, film, killing, short, film, love, janus, films]\n",
       "1        [krzysztof, kieslowski, closes, three, colors, trilogy, grand, fashion, incandescent, meditation, fate, chance, irène, jacob, sweet-souled, yet, somber, runway, model, geneva, whose, life, dramatically, intersects, bitter, retired, judge, played, jean-louis, trintignant, meanwhile, street, seemingly, unrelated, story, jealousy, betrayal, unfolds, red, intimate, look, forged, connections, splendid, final, statement, remarkable, filmmaker, height, powers, criterion]                                                                                                                                                                                                                                                                                                                                                                                                                       \n",
       "2        [set, rome, 1930s, bernardo, bertolucci, breakthrough, feature, jean-louis, trintignant, mussolini, operative, sent, paris, locate, eliminate, old, professor, fled, italy, fascists, came, power]                                                                                                                                                                                                                                                                                                                                                                                                                                                                                                                                                                                                                                                                                                         \n",
       "3        [yasujiro, ozu, tokyo, story, follows, aging, couple, tomi, sukichi, journey, rural, village, visit, two, married, children, bustling, postwar, tokyo, reception, disappointing, busy, entertain, children, send, health, spa, tomi, falls, ill, sukichi, return, home, children, grief-stricken, hasten, simple, tale, unfolds, one, greatest, japanese, films, ozu, regulars, chishu, ryu, setsuko, hara, film, reprises, one, director, favorite, themes—that, generational, conflict—in, way, quintessentially, japanese, yet, universal, appeal, continues, resonate, one, cinema, greatest, masterpieces, janus, films]                                                                                                                                                                                                                                                                              \n",
       "4        [set, sicily, luchino, visconti, spectacular, adaptation, giuseppe, lampedusa, international, bestseller, one, cinema, greatest, evocations, past, achingly, depicting, passing, ancient, order, film, forum]                                                                                                                                                                                                                                                                                                                                                                                                                                                                                                                                                                                                                                                                                              \n",
       "                                                                                                             ...                                                                                                                                                                                                                                                                                                                                                                                                                                                                                                                                                                                                                                                                                                                                                                                                    \n",
       "16277    [dodger, must, confront, struggles, life, visited, garbage, pail, kids, intimidated, older, bullies]                                                                                                                                                                                                                                                                                                                                                                                                                                                                                                                                                                                                                                                                                                                                                                                                       \n",
       "16278    [since, democrats, fanatically, refused, accept, result, free, election, year, target, lincoln, smeared, went, war, defeat, end, assassinated, target, democrats, president, trump, supporters, left, calls, racists, white, supremacists, fascists, charges, used, justify, driving, trump, office, discrediting, right, means, necessary, party, slave, plantation, party, invented, white, supremacy, party, praised, fascist, dictators, shaped, genocidal, policies, turn, praised, moreover, party, racism, today, fascism, institutionally, embodied, right, left, quality, flix]                                                                                                                                                                                                                                                                                                                   \n",
       "16279    [three, men—jules, rimet, gérard, depardieu, joao, havelange, sam, neill, sepp, blatter, tim, roth, —establish, fifa, help, make, world, cup, popular, sporting, event, world]                                                                                                                                                                                                                                                                                                                                                                                                                                                                                                                                                                                                                                                                                                                             \n",
       "16280    [five, brave, scientists, forced, face, life, forms, perplexing, terrifying, annoying, anything, ever, encountered, pauly, shore, stephen, baldwin, mgm]                                                                                                                                                                                                                                                                                                                                                                                                                                                                                                                                                                                                                                                                                                                                                   \n",
       "16282    [comedy, manners, set, backdrop, contemporary, london, international, art, scene]                                                                                                                                                                                                                                                                                                                                                                                                                                                                                                                                                                                                                                                                                                                                                                                                                          \n",
       "Name: description, Length: 12505, dtype: object"
      ]
     },
     "execution_count": 138,
     "metadata": {},
     "output_type": "execute_result"
    }
   ],
   "source": [
    "keyword_tokens\n",
    "\n",
    "# More cleaning\n",
    "# recommendations (similarity)\n",
    "# sentiment (how positive/negative)\n",
    "# word clouds / most frequent keywords"
   ]
  },
  {
   "cell_type": "markdown",
   "metadata": {},
   "source": [
    "## Vectorisation\n",
    "\n",
    "Turn something complex into a big list of numbers --> a point in multi-dimensional space\n",
    "\n",
    "One ring to rule them all  \n",
    "One ring to find them  \n",
    "One ring to bring them all  \n",
    "And in the darkness bind them  \n",
    "\n",
    "\n",
    "| One | ring | to | rule | them | all | find | bring | and | in | the | darkness | bind |\n",
    "| --- | --- | --- | --- | --- | --- | --- | --- | --- | --- | --- | --- | --- |\n",
    "| T | T | T | T | T | T | T | F | F | F | F | F | F | F | F |\n",
    "| T | T | T | F | T | F | T | F | F | F | F | F | F | F | F |\n"
   ]
  },
  {
   "cell_type": "code",
   "execution_count": 180,
   "metadata": {},
   "outputs": [],
   "source": [
    "# Combine tokens back into strings\n",
    "\n",
    "keyword_strings = keyword_tokens.apply(\" \".join)"
   ]
  },
  {
   "cell_type": "code",
   "execution_count": 201,
   "metadata": {},
   "outputs": [],
   "source": [
    "# c_vec = CountVectorizer(max_features=10000)\n",
    "t_vec = TfidfVectorizer(max_features=10000)\n",
    "\n",
    "keyword_vectors = t_vec.fit_transform(keyword_strings)"
   ]
  },
  {
   "cell_type": "code",
   "execution_count": 202,
   "metadata": {},
   "outputs": [
    {
     "data": {
      "text/plain": [
       "array([[0., 0., 0., ..., 0., 0., 0.],\n",
       "       [0., 0., 0., ..., 0., 0., 0.],\n",
       "       [0., 0., 0., ..., 0., 0., 0.],\n",
       "       ...,\n",
       "       [0., 0., 0., ..., 0., 0., 0.],\n",
       "       [0., 0., 0., ..., 0., 0., 0.],\n",
       "       [0., 0., 0., ..., 0., 0., 0.]], shape=(12505, 10000))"
      ]
     },
     "execution_count": 202,
     "metadata": {},
     "output_type": "execute_result"
    }
   ],
   "source": [
    "keyword_vectors.toarray()"
   ]
  },
  {
   "cell_type": "markdown",
   "metadata": {},
   "source": [
    "# Similarity"
   ]
  },
  {
   "cell_type": "code",
   "execution_count": 203,
   "metadata": {},
   "outputs": [],
   "source": [
    "joana_film_vector = keyword_vectors.toarray()[5734]"
   ]
  },
  {
   "cell_type": "code",
   "execution_count": 204,
   "metadata": {},
   "outputs": [],
   "source": [
    "joana_film_similarities = cosine_similarity([joana_film_vector], keyword_vectors)"
   ]
  },
  {
   "cell_type": "code",
   "execution_count": 205,
   "metadata": {},
   "outputs": [
    {
     "data": {
      "text/plain": [
       "array([[0.02920762, 0.        , 0.07624641, ..., 0.        , 0.        ,\n",
       "        0.        ]], shape=(1, 12505))"
      ]
     },
     "execution_count": 205,
     "metadata": {},
     "output_type": "execute_result"
    }
   ],
   "source": [
    "joana_film_similarities"
   ]
  },
  {
   "cell_type": "code",
   "execution_count": 206,
   "metadata": {},
   "outputs": [],
   "source": [
    "films[\"j_score\"] = joana_film_similarities[0]"
   ]
  },
  {
   "cell_type": "code",
   "execution_count": 207,
   "metadata": {},
   "outputs": [
    {
     "data": {
      "text/plain": [
       "7564     Café Society            \n",
       "3356     Roger Dodger            \n",
       "1334     Night Moves             \n",
       "1333     Night Moves             \n",
       "14864    St. Elmo's Fire         \n",
       "3978     Anaïs in Love           \n",
       "6245     1984                    \n",
       "658      Los Angeles Plays Itself\n",
       "8428     The Bubble              \n",
       "8429     The Bubble              \n",
       "Name: title, dtype: object"
      ]
     },
     "execution_count": 207,
     "metadata": {},
     "output_type": "execute_result"
    }
   ],
   "source": [
    "films.sort_values(\"j_score\", ascending=False)[\"title\"].head(10)"
   ]
  },
  {
   "cell_type": "code",
   "execution_count": 208,
   "metadata": {},
   "outputs": [],
   "source": [
    "ben_vector = t_vec.transform([\"magic dragons wizards fire space\"])"
   ]
  },
  {
   "cell_type": "code",
   "execution_count": 209,
   "metadata": {},
   "outputs": [
    {
     "data": {
      "text/plain": [
       "<Compressed Sparse Row sparse matrix of dtype 'float64'\n",
       "\twith 5 stored elements and shape (1, 10000)>"
      ]
     },
     "execution_count": 209,
     "metadata": {},
     "output_type": "execute_result"
    }
   ],
   "source": [
    "ben_vector"
   ]
  },
  {
   "cell_type": "code",
   "execution_count": 210,
   "metadata": {},
   "outputs": [],
   "source": [
    "films[\"b_score\"] = cosine_similarity(ben_vector, keyword_vectors)[0]"
   ]
  },
  {
   "cell_type": "code",
   "execution_count": 211,
   "metadata": {},
   "outputs": [
    {
     "data": {
      "text/plain": [
       "2756     How to Train Your Dragon 2               \n",
       "4510     Harry Potter and the Order of the Phoenix\n",
       "14180    SpaceCamp                                \n",
       "6883     Harry Potter and the Sorcerer's Stone    \n",
       "15351    Your Highness                            \n",
       "3493     Raya and the Last Dragon                 \n",
       "13065    Fire and Ice                             \n",
       "10180    Return to Space                          \n",
       "4067     Fire Will Come                           \n",
       "8993     Make Believe                             \n",
       "Name: title, dtype: object"
      ]
     },
     "execution_count": 211,
     "metadata": {},
     "output_type": "execute_result"
    }
   ],
   "source": [
    "films.sort_values(\"b_score\", ascending=False)[\"title\"].head(10)"
   ]
  },
  {
   "cell_type": "code",
   "execution_count": 192,
   "metadata": {},
   "outputs": [
    {
     "data": {
      "text/plain": [
       "True"
      ]
     },
     "execution_count": 192,
     "metadata": {},
     "output_type": "execute_result"
    }
   ],
   "source": [
    "\"dragons\" in c_vec.get_feature_names_out()"
   ]
  },
  {
   "cell_type": "code",
   "execution_count": null,
   "metadata": {},
   "outputs": [],
   "source": [
    "boolean == is the word there\n",
    "count == how many times is the word there\n",
    "tfidf == how much is the word there relative to how common the word is"
   ]
  },
  {
   "cell_type": "code",
   "execution_count": 200,
   "metadata": {},
   "outputs": [
    {
     "data": {
      "text/plain": [
       "['larry',\n",
       " 'daley',\n",
       " 'ben',\n",
       " 'stiller',\n",
       " 'heads',\n",
       " 'london',\n",
       " 'revitalize',\n",
       " 'magic',\n",
       " 'life-giving',\n",
       " 'tablet']"
      ]
     },
     "execution_count": 200,
     "metadata": {},
     "output_type": "execute_result"
    }
   ],
   "source": [
    "keyword_tokens[12588]"
   ]
  },
  {
   "cell_type": "code",
   "execution_count": null,
   "metadata": {},
   "outputs": [],
   "source": []
  }
 ],
 "metadata": {
  "kernelspec": {
   "display_name": ".venv",
   "language": "python",
   "name": "python3"
  },
  "language_info": {
   "codemirror_mode": {
    "name": "ipython",
    "version": 3
   },
   "file_extension": ".py",
   "mimetype": "text/x-python",
   "name": "python",
   "nbconvert_exporter": "python",
   "pygments_lexer": "ipython3",
   "version": "3.13.1"
  }
 },
 "nbformat": 4,
 "nbformat_minor": 2
}
