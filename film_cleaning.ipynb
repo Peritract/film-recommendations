{
 "cells": [
  {
   "cell_type": "markdown",
   "metadata": {},
   "source": [
    "# Film cleaning\n",
    "\n",
    "This notebook cleans & explores a film dataset.\n",
    "\n",
    "## Imports"
   ]
  },
  {
   "cell_type": "code",
   "execution_count": 75,
   "metadata": {},
   "outputs": [],
   "source": [
    "import pandas as pd\n",
    "from nltk.corpus import stopwords\n",
    "from nltk.tokenize import word_tokenize"
   ]
  },
  {
   "cell_type": "markdown",
   "metadata": {},
   "source": [
    "## Setup"
   ]
  },
  {
   "cell_type": "code",
   "execution_count": 76,
   "metadata": {},
   "outputs": [],
   "source": [
    "pd.set_option(\"max.colwidth\", 0)"
   ]
  },
  {
   "cell_type": "markdown",
   "metadata": {},
   "source": [
    "## Data sourcing"
   ]
  },
  {
   "cell_type": "code",
   "execution_count": 77,
   "metadata": {},
   "outputs": [],
   "source": [
    "films = pd.read_csv(\"data/16k_Movies.csv\")"
   ]
  },
  {
   "cell_type": "code",
   "execution_count": 78,
   "metadata": {},
   "outputs": [
    {
     "data": {
      "text/html": [
       "<div>\n",
       "<style scoped>\n",
       "    .dataframe tbody tr th:only-of-type {\n",
       "        vertical-align: middle;\n",
       "    }\n",
       "\n",
       "    .dataframe tbody tr th {\n",
       "        vertical-align: top;\n",
       "    }\n",
       "\n",
       "    .dataframe thead th {\n",
       "        text-align: right;\n",
       "    }\n",
       "</style>\n",
       "<table border=\"1\" class=\"dataframe\">\n",
       "  <thead>\n",
       "    <tr style=\"text-align: right;\">\n",
       "      <th></th>\n",
       "      <th>Unnamed: 0</th>\n",
       "      <th>Title</th>\n",
       "      <th>Release Date</th>\n",
       "      <th>Description</th>\n",
       "      <th>Rating</th>\n",
       "      <th>No of Persons Voted</th>\n",
       "      <th>Directed by</th>\n",
       "      <th>Written by</th>\n",
       "      <th>Duration</th>\n",
       "      <th>Genres</th>\n",
       "    </tr>\n",
       "  </thead>\n",
       "  <tbody>\n",
       "    <tr>\n",
       "      <th>0</th>\n",
       "      <td>0</td>\n",
       "      <td>Dekalog (1988)</td>\n",
       "      <td>Mar 22, 1996</td>\n",
       "      <td>This masterwork by Krzysztof Kieślowski is one of the twentieth century’s greatest achievements in visual storytelling. Originally made for Polish television, Dekalog focuses on the residents of a housing complex in late-Communist Poland, whose lives become subtly intertwined as they face emotional dilemmas that are at once deeply personal and universally human. Its ten hour-long films, drawing from the Ten Commandments for thematic inspiration and an overarching structure, grapple deftly with complex moral and existential questions concerning life, death, love, hate, truth, and the passage of time. Shot by nine different cinematographers, with stirring music by Zbigniew Preisner and compelling performances from established and unknown actors alike, Dekalog arrestingly explores the unknowable forces that shape our lives. Also available are the longer theatrical versions of the series’ fifth and sixth films: A Short Film About Killing and A Short Film About Love. [Janus Films]</td>\n",
       "      <td>7.4</td>\n",
       "      <td>118</td>\n",
       "      <td>Krzysztof Kieslowski</td>\n",
       "      <td>Krzysztof Kieslowski, Krzysztof Piesiewicz</td>\n",
       "      <td>9 h 32 m</td>\n",
       "      <td>Drama</td>\n",
       "    </tr>\n",
       "    <tr>\n",
       "      <th>1</th>\n",
       "      <td>1</td>\n",
       "      <td>Three Colors: Red</td>\n",
       "      <td>Nov 23, 1994</td>\n",
       "      <td>Krzysztof Kieslowski closes his Three Colors trilogy in grand fashion, with an incandescent meditation on fate and chance, starring Irène Jacob as a sweet-souled yet somber runway model in Geneva whose life dramatically intersects with that of a bitter retired judge, played by Jean-Louis Trintignant. Meanwhile, just down the street, a seemingly unrelated story of jealousy and betrayal unfolds. Red is an intimate look at forged connections and a splendid final statement from a remarkable filmmaker at the height of his powers. [Criterion]</td>\n",
       "      <td>8.3</td>\n",
       "      <td>241</td>\n",
       "      <td>Krzysztof Kieslowski</td>\n",
       "      <td>Krzysztof Kieslowski, Krzysztof Piesiewicz, Agnieszka Holland, Edward Zebrowski, Edward Klosinski, Marcin Latallo</td>\n",
       "      <td>1 h 39 m</td>\n",
       "      <td>Drama,Mystery,Romance</td>\n",
       "    </tr>\n",
       "    <tr>\n",
       "      <th>2</th>\n",
       "      <td>2</td>\n",
       "      <td>The Conformist</td>\n",
       "      <td>Oct 22, 1970</td>\n",
       "      <td>Set in Rome in the 1930s, this re-release of Bernardo Bertolucci's 1970 breakthrough feature stars Jean-Louis Trintignant as a Mussolini operative sent to Paris to locate and eliminate an old professor who fled Italy when the fascists came to power.</td>\n",
       "      <td>7.3</td>\n",
       "      <td>106</td>\n",
       "      <td>Bernardo Bertolucci</td>\n",
       "      <td>Alberto Moravia, Bernardo Bertolucci</td>\n",
       "      <td>1 h 47 m</td>\n",
       "      <td>Drama</td>\n",
       "    </tr>\n",
       "    <tr>\n",
       "      <th>3</th>\n",
       "      <td>3</td>\n",
       "      <td>Tokyo Story</td>\n",
       "      <td>Mar 13, 1972</td>\n",
       "      <td>Yasujiro Ozu’s Tokyo Story follows an aging couple, Tomi and Sukichi, on their journey from their rural village to visit their two married children in bustling, postwar Tokyo. Their reception is disappointing: too busy to entertain them, their children send them off to a health spa. After Tomi falls ill she and Sukichi return home, while the children, grief-stricken, hasten to be with her. From a simple tale unfolds one of the greatest of all Japanese films. Starring Ozu regulars Chishu Ryu and Setsuko Hara, the film reprises one of the director’s favorite themes—that of generational conflict—in a way that is quintessentially Japanese and yet so universal in its appeal that it continues to resonate as one of cinema’s greatest masterpieces. [Janus Films]</td>\n",
       "      <td>8.1</td>\n",
       "      <td>147</td>\n",
       "      <td>Yasujirô Ozu</td>\n",
       "      <td>Kôgo Noda, Yasujirô Ozu</td>\n",
       "      <td>2 h 16 m</td>\n",
       "      <td>Drama</td>\n",
       "    </tr>\n",
       "    <tr>\n",
       "      <th>4</th>\n",
       "      <td>4</td>\n",
       "      <td>The Leopard (re-release)</td>\n",
       "      <td>Aug 13, 2004</td>\n",
       "      <td>Set in Sicily in 1860, Luchino Visconti's spectacular 1963 adaptation of Giuseppe di Lampedusa's international bestseller is one of the cinema's greatest evocations of the past, achingly depicting the passing of an ancient order. (Film Forum)</td>\n",
       "      <td>7.8</td>\n",
       "      <td>85</td>\n",
       "      <td>Luchino Visconti</td>\n",
       "      <td>Giuseppe Tomasi di Lampedusa, Suso Cecchi D'Amico, Pasquale Festa Campanile, Enrico Medioli, Massimo Franciosa, Luchino Visconti</td>\n",
       "      <td>3 h 7 m</td>\n",
       "      <td>Drama,History</td>\n",
       "    </tr>\n",
       "  </tbody>\n",
       "</table>\n",
       "</div>"
      ],
      "text/plain": [
       "   Unnamed: 0                     Title  Release Date  \\\n",
       "0  0           Dekalog (1988)            Mar 22, 1996   \n",
       "1  1           Three Colors: Red         Nov 23, 1994   \n",
       "2  2           The Conformist            Oct 22, 1970   \n",
       "3  3           Tokyo Story               Mar 13, 1972   \n",
       "4  4           The Leopard (re-release)  Aug 13, 2004   \n",
       "\n",
       "                                                                                                                                                                                                                                                                                                                                                                                                                                                                                                                                                                                                                                                                                                                                                                                                                                                                                                                                                                                                                      Description  \\\n",
       "0  This masterwork by Krzysztof Kieślowski is one of the twentieth century’s greatest achievements in visual storytelling. Originally made for Polish television, Dekalog focuses on the residents of a housing complex in late-Communist Poland, whose lives become subtly intertwined as they face emotional dilemmas that are at once deeply personal and universally human. Its ten hour-long films, drawing from the Ten Commandments for thematic inspiration and an overarching structure, grapple deftly with complex moral and existential questions concerning life, death, love, hate, truth, and the passage of time. Shot by nine different cinematographers, with stirring music by Zbigniew Preisner and compelling performances from established and unknown actors alike, Dekalog arrestingly explores the unknowable forces that shape our lives. Also available are the longer theatrical versions of the series’ fifth and sixth films: A Short Film About Killing and A Short Film About Love. [Janus Films]   \n",
       "1  Krzysztof Kieslowski closes his Three Colors trilogy in grand fashion, with an incandescent meditation on fate and chance, starring Irène Jacob as a sweet-souled yet somber runway model in Geneva whose life dramatically intersects with that of a bitter retired judge, played by Jean-Louis Trintignant. Meanwhile, just down the street, a seemingly unrelated story of jealousy and betrayal unfolds. Red is an intimate look at forged connections and a splendid final statement from a remarkable filmmaker at the height of his powers. [Criterion]                                                                                                                                                                                                                                                                                                                                                                                                                                                                   \n",
       "2  Set in Rome in the 1930s, this re-release of Bernardo Bertolucci's 1970 breakthrough feature stars Jean-Louis Trintignant as a Mussolini operative sent to Paris to locate and eliminate an old professor who fled Italy when the fascists came to power.                                                                                                                                                                                                                                                                                                                                                                                                                                                                                                                                                                                                                                                                                                                                                                        \n",
       "3  Yasujiro Ozu’s Tokyo Story follows an aging couple, Tomi and Sukichi, on their journey from their rural village to visit their two married children in bustling, postwar Tokyo. Their reception is disappointing: too busy to entertain them, their children send them off to a health spa. After Tomi falls ill she and Sukichi return home, while the children, grief-stricken, hasten to be with her. From a simple tale unfolds one of the greatest of all Japanese films. Starring Ozu regulars Chishu Ryu and Setsuko Hara, the film reprises one of the director’s favorite themes—that of generational conflict—in a way that is quintessentially Japanese and yet so universal in its appeal that it continues to resonate as one of cinema’s greatest masterpieces. [Janus Films]                                                                                                                                                                                                                                      \n",
       "4  Set in Sicily in 1860, Luchino Visconti's spectacular 1963 adaptation of Giuseppe di Lampedusa's international bestseller is one of the cinema's greatest evocations of the past, achingly depicting the passing of an ancient order. (Film Forum)                                                                                                                                                                                                                                                                                                                                                                                                                                                                                                                                                                                                                                                                                                                                                                               \n",
       "\n",
       "   Rating No of Persons Voted           Directed by  \\\n",
       "0  7.4     118                 Krzysztof Kieslowski   \n",
       "1  8.3     241                 Krzysztof Kieslowski   \n",
       "2  7.3     106                 Bernardo Bertolucci    \n",
       "3  8.1     147                 Yasujirô Ozu           \n",
       "4  7.8     85                  Luchino Visconti       \n",
       "\n",
       "                                                                                                                         Written by  \\\n",
       "0  Krzysztof Kieslowski, Krzysztof Piesiewicz                                                                                         \n",
       "1  Krzysztof Kieslowski, Krzysztof Piesiewicz, Agnieszka Holland, Edward Zebrowski, Edward Klosinski, Marcin Latallo                  \n",
       "2  Alberto Moravia, Bernardo Bertolucci                                                                                               \n",
       "3  Kôgo Noda, Yasujirô Ozu                                                                                                            \n",
       "4  Giuseppe Tomasi di Lampedusa, Suso Cecchi D'Amico, Pasquale Festa Campanile, Enrico Medioli, Massimo Franciosa, Luchino Visconti   \n",
       "\n",
       "   Duration                 Genres  \n",
       "0  9 h 32 m  Drama                  \n",
       "1  1 h 39 m  Drama,Mystery,Romance  \n",
       "2  1 h 47 m  Drama                  \n",
       "3  2 h 16 m  Drama                  \n",
       "4  3 h 7 m   Drama,History          "
      ]
     },
     "execution_count": 78,
     "metadata": {},
     "output_type": "execute_result"
    }
   ],
   "source": [
    "films.head()"
   ]
  },
  {
   "cell_type": "code",
   "execution_count": 79,
   "metadata": {},
   "outputs": [],
   "source": [
    "# Drop bad column and unwanted columns\n",
    "\n",
    "films = films.drop(columns=[\"Unnamed: 0\", \"Written by\", \"Directed by\"])"
   ]
  },
  {
   "cell_type": "code",
   "execution_count": 80,
   "metadata": {},
   "outputs": [],
   "source": [
    "# Get rid of bad rows\n",
    "\n",
    "films = films.dropna()"
   ]
  },
  {
   "cell_type": "code",
   "execution_count": 81,
   "metadata": {},
   "outputs": [],
   "source": [
    "films[\"Release Date\"] = pd.to_datetime(films[\"Release Date\"])"
   ]
  },
  {
   "cell_type": "code",
   "execution_count": 82,
   "metadata": {},
   "outputs": [],
   "source": [
    "duration_df = films[\"Duration\"].str.extract(r\"(\\d+) h (\\d+) m\")\n",
    "\n",
    "duration_df = duration_df.fillna(0)\n",
    "\n",
    "duration_df[\"total_duration\"] = duration_df[0].astype(int) * 60 + duration_df[1].astype(int)"
   ]
  },
  {
   "cell_type": "code",
   "execution_count": 83,
   "metadata": {},
   "outputs": [],
   "source": [
    "films[\"Duration\"] = duration_df[\"total_duration\"]\n",
    "\n",
    "films = films[films[\"Duration\"] > 0]"
   ]
  },
  {
   "cell_type": "code",
   "execution_count": 84,
   "metadata": {},
   "outputs": [
    {
     "data": {
      "text/plain": [
       "Title                  object        \n",
       "Release Date           datetime64[ns]\n",
       "Description            object        \n",
       "Rating                 float64       \n",
       "No of Persons Voted    object        \n",
       "Duration               int64         \n",
       "Genres                 object        \n",
       "dtype: object"
      ]
     },
     "execution_count": 84,
     "metadata": {},
     "output_type": "execute_result"
    }
   ],
   "source": [
    "films.dtypes"
   ]
  },
  {
   "cell_type": "code",
   "execution_count": 85,
   "metadata": {},
   "outputs": [],
   "source": [
    "films.columns = films.columns.str.lower().str.replace(\" \", \"_\")\n",
    "films = films.rename(columns={\n",
    "    \"no_of_persons_voted\": \"votes\"\n",
    "})"
   ]
  },
  {
   "cell_type": "code",
   "execution_count": 86,
   "metadata": {},
   "outputs": [
    {
     "data": {
      "text/html": [
       "<div>\n",
       "<style scoped>\n",
       "    .dataframe tbody tr th:only-of-type {\n",
       "        vertical-align: middle;\n",
       "    }\n",
       "\n",
       "    .dataframe tbody tr th {\n",
       "        vertical-align: top;\n",
       "    }\n",
       "\n",
       "    .dataframe thead th {\n",
       "        text-align: right;\n",
       "    }\n",
       "</style>\n",
       "<table border=\"1\" class=\"dataframe\">\n",
       "  <thead>\n",
       "    <tr style=\"text-align: right;\">\n",
       "      <th></th>\n",
       "      <th>title</th>\n",
       "      <th>release_date</th>\n",
       "      <th>description</th>\n",
       "      <th>rating</th>\n",
       "      <th>votes</th>\n",
       "      <th>duration</th>\n",
       "      <th>genres</th>\n",
       "    </tr>\n",
       "  </thead>\n",
       "  <tbody>\n",
       "    <tr>\n",
       "      <th>12529</th>\n",
       "      <td>The Mummy Returns</td>\n",
       "      <td>2001-05-04</td>\n",
       "      <td>Deep within a shadowy chamber in the British Museum of London, an ancient force of terror is about to be reborn.  It is 1933, the Year of the Scorpion. Eight years have passed since dashing legionnaire Rick O'Connell (Fraser) and fearless Egyptologist Evelyn (Weisz) fought for their lives against a 3000-year-old enemy named Imhotep (Vosloo).  (Universal Pictures)</td>\n",
       "      <td>3.4</td>\n",
       "      <td>533</td>\n",
       "      <td>130</td>\n",
       "      <td>Action,Adventure,Fantasy,Thriller</td>\n",
       "    </tr>\n",
       "  </tbody>\n",
       "</table>\n",
       "</div>"
      ],
      "text/plain": [
       "                   title release_date  \\\n",
       "12529  The Mummy Returns 2001-05-04     \n",
       "\n",
       "                                                                                                                                                                                                                                                                                                                                                                         description  \\\n",
       "12529  Deep within a shadowy chamber in the British Museum of London, an ancient force of terror is about to be reborn.  It is 1933, the Year of the Scorpion. Eight years have passed since dashing legionnaire Rick O'Connell (Fraser) and fearless Egyptologist Evelyn (Weisz) fought for their lives against a 3000-year-old enemy named Imhotep (Vosloo).  (Universal Pictures)   \n",
       "\n",
       "       rating votes  duration                             genres  \n",
       "12529  3.4     533   130       Action,Adventure,Fantasy,Thriller  "
      ]
     },
     "execution_count": 86,
     "metadata": {},
     "output_type": "execute_result"
    }
   ],
   "source": [
    "films.sample()"
   ]
  },
  {
   "cell_type": "markdown",
   "metadata": {},
   "source": [
    "## Text cleaning"
   ]
  },
  {
   "cell_type": "code",
   "execution_count": 87,
   "metadata": {},
   "outputs": [],
   "source": [
    "keywords = films[\"description\"]"
   ]
  },
  {
   "cell_type": "code",
   "execution_count": 88,
   "metadata": {},
   "outputs": [],
   "source": [
    "keywords = keywords.str.lower()\n",
    "\n",
    "# Remove stopwords (grammatically but not semantically valuable)\n",
    "# bigrams\n",
    "# misspelling\n",
    "# synonyms/homonyms/multiple definitions\n",
    "# Cases\n",
    "# Plurals punctuation\n"
   ]
  },
  {
   "cell_type": "code",
   "execution_count": 93,
   "metadata": {},
   "outputs": [],
   "source": [
    "stops = stopwords.words(\"english\")\n",
    "stops.extend([\"'ve\", \"'nt\", \"re-release\", \"starring\", \"directed\", \"award\"])"
   ]
  },
  {
   "cell_type": "code",
   "execution_count": 94,
   "metadata": {},
   "outputs": [],
   "source": [
    "keyword_tokens = keywords.apply(word_tokenize)"
   ]
  },
  {
   "cell_type": "code",
   "execution_count": 97,
   "metadata": {},
   "outputs": [],
   "source": [
    "def remove_unwanted_words(tokens: list[str]) -> list[str]:\n",
    "    \"\"\"Returns a list of tokens filtered for undesirables.\"\"\"\n",
    "\n",
    "    return [t for t in tokens\n",
    "            if t not in stops\n",
    "            and len(t) >= 3\n",
    "            and not t.isdigit()]\n",
    "\n",
    "keyword_tokens = keyword_tokens.apply(remove_unwanted_words)"
   ]
  },
  {
   "cell_type": "code",
   "execution_count": 98,
   "metadata": {},
   "outputs": [
    {
     "data": {
      "text/plain": [
       "0        [masterwork, krzysztof, kieślowski, one, twentieth, century, greatest, achievements, visual, storytelling, originally, made, polish, television, dekalog, focuses, residents, housing, complex, late-communist, poland, whose, lives, become, subtly, intertwined, face, emotional, dilemmas, deeply, personal, universally, human, ten, hour-long, films, drawing, ten, commandments, thematic, inspiration, overarching, structure, grapple, deftly, complex, moral, existential, questions, concerning, life, death, love, hate, truth, passage, time, shot, nine, different, cinematographers, stirring, music, zbigniew, preisner, compelling, performances, established, unknown, actors, alike, dekalog, arrestingly, explores, unknowable, forces, shape, lives, also, available, longer, theatrical, versions, series, fifth, sixth, films, short, film, killing, short, film, love, janus, films]\n",
       "1        [krzysztof, kieslowski, closes, three, colors, trilogy, grand, fashion, incandescent, meditation, fate, chance, irène, jacob, sweet-souled, yet, somber, runway, model, geneva, whose, life, dramatically, intersects, bitter, retired, judge, played, jean-louis, trintignant, meanwhile, street, seemingly, unrelated, story, jealousy, betrayal, unfolds, red, intimate, look, forged, connections, splendid, final, statement, remarkable, filmmaker, height, powers, criterion]                                                                                                                                                                                                                                                                                                                                                                                                                       \n",
       "2        [set, rome, 1930s, bernardo, bertolucci, breakthrough, feature, stars, jean-louis, trintignant, mussolini, operative, sent, paris, locate, eliminate, old, professor, fled, italy, fascists, came, power]                                                                                                                                                                                                                                                                                                                                                                                                                                                                                                                                                                                                                                                                                                  \n",
       "3        [yasujiro, ozu, tokyo, story, follows, aging, couple, tomi, sukichi, journey, rural, village, visit, two, married, children, bustling, postwar, tokyo, reception, disappointing, busy, entertain, children, send, health, spa, tomi, falls, ill, sukichi, return, home, children, grief-stricken, hasten, simple, tale, unfolds, one, greatest, japanese, films, ozu, regulars, chishu, ryu, setsuko, hara, film, reprises, one, director, favorite, themes—that, generational, conflict—in, way, quintessentially, japanese, yet, universal, appeal, continues, resonate, one, cinema, greatest, masterpieces, janus, films]                                                                                                                                                                                                                                                                              \n",
       "4        [set, sicily, luchino, visconti, spectacular, adaptation, giuseppe, lampedusa, international, bestseller, one, cinema, greatest, evocations, past, achingly, depicting, passing, ancient, order, film, forum]                                                                                                                                                                                                                                                                                                                                                                                                                                                                                                                                                                                                                                                                                              \n",
       "                                                                                                             ...                                                                                                                                                                                                                                                                                                                                                                                                                                                                                                                                                                                                                                                                                                                                                                                                    \n",
       "16277    [dodger, must, confront, struggles, life, visited, garbage, pail, kids, intimidated, older, bullies]                                                                                                                                                                                                                                                                                                                                                                                                                                                                                                                                                                                                                                                                                                                                                                                                       \n",
       "16278    [since, democrats, fanatically, refused, accept, result, free, election, year, target, lincoln, smeared, went, war, defeat, end, assassinated, target, democrats, president, trump, supporters, left, calls, racists, white, supremacists, fascists, charges, used, justify, driving, trump, office, discrediting, right, means, necessary, party, slave, plantation, party, invented, white, supremacy, party, praised, fascist, dictators, shaped, genocidal, policies, turn, praised, moreover, party, racism, today, fascism, institutionally, embodied, right, left, quality, flix]                                                                                                                                                                                                                                                                                                                   \n",
       "16279    [three, men—jules, rimet, gérard, depardieu, joao, havelange, sam, neill, sepp, blatter, tim, roth, —establish, fifa, help, make, world, cup, popular, sporting, event, world]                                                                                                                                                                                                                                                                                                                                                                                                                                                                                                                                                                                                                                                                                                                             \n",
       "16280    [five, brave, scientists, forced, face, life, forms, perplexing, terrifying, annoying, anything, ever, encountered, pauly, shore, stephen, baldwin, mgm]                                                                                                                                                                                                                                                                                                                                                                                                                                                                                                                                                                                                                                                                                                                                                   \n",
       "16282    [comedy, manners, set, backdrop, contemporary, london, international, art, scene]                                                                                                                                                                                                                                                                                                                                                                                                                                                                                                                                                                                                                                                                                                                                                                                                                          \n",
       "Name: description, Length: 12505, dtype: object"
      ]
     },
     "execution_count": 98,
     "metadata": {},
     "output_type": "execute_result"
    }
   ],
   "source": [
    "keyword_tokens"
   ]
  },
  {
   "cell_type": "code",
   "execution_count": null,
   "metadata": {},
   "outputs": [],
   "source": []
  }
 ],
 "metadata": {
  "kernelspec": {
   "display_name": ".venv",
   "language": "python",
   "name": "python3"
  },
  "language_info": {
   "codemirror_mode": {
    "name": "ipython",
    "version": 3
   },
   "file_extension": ".py",
   "mimetype": "text/x-python",
   "name": "python",
   "nbconvert_exporter": "python",
   "pygments_lexer": "ipython3",
   "version": "3.13.1"
  }
 },
 "nbformat": 4,
 "nbformat_minor": 2
}
